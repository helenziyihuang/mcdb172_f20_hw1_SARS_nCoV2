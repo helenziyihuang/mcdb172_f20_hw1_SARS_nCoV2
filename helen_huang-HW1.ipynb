{
 "cells": [
  {
   "cell_type": "markdown",
   "metadata": {},
   "source": [
    "# HW 1: Investigating the SARS-nCoV-2 Genome\n",
    "This is your first set of coding excrecises. Please submit the modified file as your completed homework. Name the file firstname_lastname-HW1.ipynb\n",
    "\n",
    "\n",
    "The accompanying file entitled MT118835.1 is the raw text of one of the first sequenced genomes of the SARS-nCoV-2 in California. This particular isolate was found in Solano county outside of San Francisco. \n",
    "\n",
    "To load the file put it into your current directory. Which is the same one that you have this script saved into. "
   ]
  },
  {
   "cell_type": "code",
   "execution_count": 1,
   "metadata": {},
   "outputs": [],
   "source": [
    "#Load the genome\n",
    "filename = \"MT118835.1\"\n",
    "\n",
    "coronaGenome = open(filename).read()\n",
    "\n",
    "#print(coronaGenome)"
   ]
  },
  {
   "cell_type": "markdown",
   "metadata": {},
   "source": [
    "## Excercise 1: Transcription\n",
    "\n",
    "Create a function called `dna2rna` that takes the `coronaGenome` and converts all of the `t` into `u`. This function is converting DNA into RNA and more accurately represents the genome of the corona virus since it has an RNA-based genome. Save the output of the function into a new variable called `coronaRNAgenome`."
   ]
  },
  {
   "cell_type": "code",
   "execution_count": 2,
   "metadata": {},
   "outputs": [],
   "source": [
    "# Excercise 1 answer\n",
    "\n",
    "#Would dna2rna be more appropriate??\n",
    "\n",
    "def dna2rna(coronaGenome):\n",
    "    \"\"\"\n",
    "    @param coronaGenome\n",
    "    Converts all base 't' into 'u'\n",
    "    @return new RNA sequence\n",
    "    \"\"\"\n",
    "    coronaRNAgenome = coronaGenome.replace('t', 'u')\n",
    "    return coronaRNAgenome"
   ]
  },
  {
   "cell_type": "markdown",
   "metadata": {},
   "source": [
    "## Excercise 2: Pattern Matching\n",
    "Make a second function that has two arguments. One is `coronaGenome` and the second is an sequence of RNA called `query` that the user can decide on. Have the function return the number of instances of that string. How many instances are their of 'auguacg', 'auguac', 'augua', 'augu', 'aug', 'au', and 'a'?\n"
   ]
  },
  {
   "cell_type": "code",
   "execution_count": 3,
   "metadata": {},
   "outputs": [],
   "source": [
    "# Excercise 2 answer\n",
    "\n",
    "def occurrence(coronaGenome, query):\n",
    "    \"\"\"\n",
    "    @param coronaGenome, query\n",
    "    Count the # of instances of query\n",
    "    @return count\n",
    "    \"\"\"\n",
    "    coronaRNAgenome = rna2dna(coronaGenome)\n",
    "    count = coronaRNAgenome.count(query)\n",
    "    return count"
   ]
  },
  {
   "cell_type": "markdown",
   "metadata": {},
   "source": [
    "## Excercise 3: Mutation\n",
    "\n",
    "Now let's simulate the process of mutation. This is a random process so we are going to have to bring in python's random number generator. \n",
    "\n",
    "In the cell below, use the `rd.choice` function to pick a random base from the four possibilities 'a','u','c','g'"
   ]
  },
  {
   "cell_type": "code",
   "execution_count": 4,
   "metadata": {},
   "outputs": [],
   "source": [
    "#Excercise 3.1 answer\n",
    "import random as rd #this line imports the random package\n",
    "\n",
    "base = rd.choice(['a', 'u', 'c', 'g'])\n",
    "\n",
    "#print(base)"
   ]
  },
  {
   "cell_type": "markdown",
   "metadata": {},
   "source": [
    "Next create a function called `mutate` that iterates through every base of the `coronaRNAgenome` and depending on a second parameter called `mutationRate` uses the `rd.choice` function to randomly change a base pair. \n",
    "\n",
    "HINT: The following line will most likely be critical in implenting this\n",
    "`if rd.random() > mutationRate:`\n",
    "This line will most likely be paired with an `else` statement."
   ]
  },
  {
   "cell_type": "code",
   "execution_count": 5,
   "metadata": {},
   "outputs": [],
   "source": [
    "#Excercise 3.2 answer\n",
    "\n",
    "#coronaRNAgenome = 'auauaucguagcu'\n",
    "\n",
    "def mutate(coronaRNAgenome, mutationRate):\n",
    "    \"\"\"\n",
    "    @param coronaRNAgenome, mutationRate [0.0, 1.0)\n",
    "    Iterates through the RNA sequence,\n",
    "    If the random mutation rate of the base > the set mutationRate, replace with another random base\n",
    "    Otherwise, do nothing\n",
    "    @return mutated sequence\n",
    "    \"\"\"\n",
    "    \n",
    "    #Convert string coronaRNAgenome into a list\n",
    "    rnaList = list(coronaRNAgenome)\n",
    "    \n",
    "    for i in range(len(rnaList)):\n",
    "        if rd.random() > mutationRate:\n",
    "            rnaList[i] = rd.choice(['a', 'u', 'c', 'g'])\n",
    "            \n",
    "    #Joins the list into a new string\n",
    "    mutated = ''.join(rnaList)\n",
    "    \n",
    "    return mutated\n",
    "\n",
    "#print(mutate(coronaRNAgenome, 0.4))"
   ]
  },
  {
   "cell_type": "markdown",
   "metadata": {},
   "source": [
    "## Excercise 4: Translation and the Spike\n",
    "\n",
    "Finally, in order for the coronavirus to manipulate the cells in our bodies parts of its RNA genome must be translated into protein.\n",
    "\n",
    "Build a function called `RNA2Protein()` that translates any sequence of RNA to protein using the codon table.\n"
   ]
  },
  {
   "cell_type": "code",
   "execution_count": 6,
   "metadata": {},
   "outputs": [],
   "source": [
    "#Excercise 4.1 answer\n",
    "\n",
    "def RNA2Protein(rnaSequence):\n",
    "    \"\"\"\n",
    "    @param rnaSequence\n",
    "    Using the codon table, translate the given RNA sequence to protein\n",
    "    @return protein sequence\n",
    "    \"\"\"\n",
    "\n",
    "    #Codon Table\n",
    "    rna_codon_table = {\n",
    "        \"UUU\" : \"F\", \"CUU\" : \"L\", \"AUU\" : \"I\", \"GUU\" : \"V\",\n",
    "        \"UUC\" : \"F\", \"CUC\" : \"L\", \"AUC\" : \"I\", \"GUC\" : \"V\",\n",
    "        \"UUA\" : \"L\", \"CUA\" : \"L\", \"AUA\" : \"I\", \"GUA\" : \"V\",\n",
    "        \"UUG\" : \"L\", \"CUG\" : \"L\", \"AUG\" : \"M\", \"GUG\" : \"V\",\n",
    "        \"UCU\" : \"S\", \"CCU\" : \"P\", \"ACU\" : \"T\", \"GCU\" : \"A\",\n",
    "        \"UCC\" : \"S\", \"CCC\" : \"P\", \"ACC\" : \"T\", \"GCC\" : \"A\",\n",
    "        \"UCA\" : \"S\", \"CCA\" : \"P\", \"ACA\" : \"T\", \"GCA\" : \"A\",\n",
    "        \"UCG\" : \"S\", \"CCG\" : \"P\", \"ACG\" : \"T\", \"GCG\" : \"A\",\n",
    "        \"UAU\" : \"Y\", \"CAU\" : \"H\", \"AAU\" : \"N\", \"GAU\" : \"D\",\n",
    "        \"UAC\" : \"Y\", \"CAC\" : \"H\", \"AAC\" : \"N\", \"GAC\" : \"D\",\n",
    "        \"UAA\" : \"STOP\", \"CAA\" : \"Q\", \"AAA\" : \"K\", \"GAA\" : \"E\",\n",
    "        \"UAG\" : \"STOP\", \"CAG\" : \"Q\", \"AAG\" : \"K\", \"GAG\" : \"E\",\n",
    "        \"UGU\" : \"C\", \"CGU\" : \"R\", \"AGU\" : \"S\", \"GGU\" : \"G\",\n",
    "        \"UGC\" : \"C\", \"CGC\" : \"R\", \"AGC\" : \"S\", \"GGC\" : \"G\",\n",
    "        \"UGA\" : \"STOP\", \"CGA\" : \"R\", \"AGA\" : \"R\", \"GGA\" : \"G\",\n",
    "        \"UGG\" : \"W\", \"CGG\" : \"R\", \"AGG\" : \"R\", \"GGG\" : \"G\"\n",
    "    }\n",
    "\n",
    "    proteinSeq = \"\"\n",
    "    \n",
    "    #Check if the length of the sequence is 3x\n",
    "    if len(rnaSequence) % 3 == 0:\n",
    "        #Iterate through the RNA sequence\n",
    "        for i in range(0, len(rnaSequence), 3):\n",
    "            #Take out the codon, convert it to protein using the table, add to protein sequence\n",
    "            codon = rnaSequence[i : i+3]\n",
    "            proteinSeq += rna_codon_table[codon]\n",
    "    \n",
    "    return proteinSeq"
   ]
  },
  {
   "cell_type": "markdown",
   "metadata": {},
   "source": [
    "Using the two functions that you have created, transcribe and then translate the Spike which is located here: `coronaGenome[21601:25390]`  \n",
    "A mutation of codon 614 from aspartic acid (D), which has a strong negative charge, to glycine (G), which has no side chain. This change dominated the world population of sequenced genomes by May 2020.  \n",
    "Does the isolate we are analyzing here have the D or G at this position?"
   ]
  },
  {
   "cell_type": "code",
   "execution_count": 7,
   "metadata": {},
   "outputs": [
    {
     "name": "stdout",
     "output_type": "stream",
     "text": [
      "'D' at position 614, no mutation\n"
     ]
    }
   ],
   "source": [
    "#Excercise 4.2 answer\n",
    "\n",
    "spike = coronaGenome[21601:25390]\n",
    "\n",
    "protein = RNA2Protein(dna2rna(spike).upper())\n",
    "#print(protein[613])\n",
    "\n",
    "if protein[613] == 'D':\n",
    "    print(\"\\'D' at position 614, no mutation\")\n",
    "elif protein[613] == 'G':\n",
    "    print(\"\\'G' at position 614, mutation\")"
   ]
  },
  {
   "cell_type": "markdown",
   "metadata": {},
   "source": [
    "Include who you worked with here: <br />\n",
    "1)   <br />\n",
    "2)   <br />\n",
    "3)   <br />\n"
   ]
  }
 ],
 "metadata": {
  "kernelspec": {
   "display_name": "Python 3",
   "language": "python",
   "name": "python3"
  },
  "language_info": {
   "codemirror_mode": {
    "name": "ipython",
    "version": 3
   },
   "file_extension": ".py",
   "mimetype": "text/x-python",
   "name": "python",
   "nbconvert_exporter": "python",
   "pygments_lexer": "ipython3",
   "version": "3.7.6"
  }
 },
 "nbformat": 4,
 "nbformat_minor": 4
}
